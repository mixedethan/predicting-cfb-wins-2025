{
 "cells": [
  {
   "cell_type": "code",
   "execution_count": null,
   "id": "99c29309",
   "metadata": {},
   "outputs": [],
   "source": [
    "import pandas as pd\n",
    "import numpy as np\n",
    "import matplotlib.pyplot as plt\n",
    "import seaborn as sb\n",
    "from sklearn.model_selection import train_test_split\n",
    "from sklearn.preprocessing import StandardScaler\n",
    "from sklearn.linear_model import LinearRegression\n",
    "from sklearn.metrics import mean_absolute_error, mean_squared_error, r2_score\n",
    "import os\n",
    "\n",
    "\n",
    "data_path = 'data/team_stats_cleaned.csv'\n",
    "\n",
    "try:\n",
    "    df = pd.read_csv(data_path)\n",
    "    print(\"data read successfully\")\n",
    "    print(df.head())\n",
    "except FileNotFoundError:\n",
    "    print(\"file could not be found\")\n",
    "    df = None\n",
    "\n",
    "print(\"\\nExcluding data from the 2020 season due to potential outliers.\")\n",
    "df_filtered = df[df['year'] != 2020].copy()\n",
    "\n",
    "Y = df_filtered['win_percentage'] # our target variable\n",
    "X = df_filtered.drop(columns=['team','wins', 'year', 'win_percentage'])"
   ]
  }
 ],
 "metadata": {
  "language_info": {
   "name": "python"
  }
 },
 "nbformat": 4,
 "nbformat_minor": 5
}
